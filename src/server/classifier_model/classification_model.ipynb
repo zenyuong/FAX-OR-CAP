{
 "cells": [
  {
   "cell_type": "code",
   "execution_count": 65,
   "metadata": {},
   "outputs": [],
   "source": [
    "import pandas as pd\n",
    "import numpy as np\n",
    "import matplotlib.pyplot as plt\n",
    "import seaborn as sns\n",
    "import re\n",
    "\n",
    "\n",
    "from sklearn.model_selection import train_test_split\n",
    "from sklearn.feature_extraction.text import TfidfVectorizer\n",
    "from sklearn.feature_extraction.text import CountVectorizer\n",
    "\n",
    "import tensorflow as tf\n",
    "\n",
    "from tensorflow.keras.preprocessing.text import Tokenizer\n",
    "from tensorflow.keras.preprocessing.sequence import pad_sequences\n",
    "\n",
    "from sklearn.linear_model import LogisticRegression\n",
    "from sklearn.svm import SVC\n",
    "from sklearn.ensemble import RandomForestClassifier\n",
    "\n",
    "from sklearn.metrics import classification_report, plot_confusion_matrix, accuracy_score, confusion_matrix\n",
    "\n",
    "import nltk \n",
    "from nltk.corpus import stopwords\n",
    "from nltk.stem.porter import PorterStemmer\n",
    "\n",
    "STOPWORDS = stopwords.words('english')"
   ]
  },
  {
   "cell_type": "markdown",
   "metadata": {},
   "source": [
    "#### Note: <br> 0: Reliable <br> 1: Unreliable"
   ]
  },
  {
   "cell_type": "code",
   "execution_count": 8,
   "metadata": {},
   "outputs": [
    {
     "data": {
      "text/html": [
       "<div>\n",
       "<style scoped>\n",
       "    .dataframe tbody tr th:only-of-type {\n",
       "        vertical-align: middle;\n",
       "    }\n",
       "\n",
       "    .dataframe tbody tr th {\n",
       "        vertical-align: top;\n",
       "    }\n",
       "\n",
       "    .dataframe thead th {\n",
       "        text-align: right;\n",
       "    }\n",
       "</style>\n",
       "<table border=\"1\" class=\"dataframe\">\n",
       "  <thead>\n",
       "    <tr style=\"text-align: right;\">\n",
       "      <th></th>\n",
       "      <th>content</th>\n",
       "      <th>label</th>\n",
       "    </tr>\n",
       "  </thead>\n",
       "  <tbody>\n",
       "    <tr>\n",
       "      <th>0</th>\n",
       "      <td>House Dem Aide: We Didn’t Even See Comey’s Let...</td>\n",
       "      <td>1</td>\n",
       "    </tr>\n",
       "    <tr>\n",
       "      <th>1</th>\n",
       "      <td>FLYNN: Hillary Clinton, Big Woman on Campus - ...</td>\n",
       "      <td>0</td>\n",
       "    </tr>\n",
       "    <tr>\n",
       "      <th>2</th>\n",
       "      <td>Why the Truth Might Get You Fired Consortiumne...</td>\n",
       "      <td>1</td>\n",
       "    </tr>\n",
       "    <tr>\n",
       "      <th>3</th>\n",
       "      <td>15 Civilians Killed In Single US Airstrike Hav...</td>\n",
       "      <td>1</td>\n",
       "    </tr>\n",
       "    <tr>\n",
       "      <th>4</th>\n",
       "      <td>Iranian woman jailed for fictional unpublished...</td>\n",
       "      <td>1</td>\n",
       "    </tr>\n",
       "    <tr>\n",
       "      <th>...</th>\n",
       "      <td>...</td>\n",
       "      <td>...</td>\n",
       "    </tr>\n",
       "    <tr>\n",
       "      <th>20795</th>\n",
       "      <td>Rapper T.I.: Trump a ’Poster Child For White S...</td>\n",
       "      <td>0</td>\n",
       "    </tr>\n",
       "    <tr>\n",
       "      <th>20796</th>\n",
       "      <td>N.F.L. Playoffs: Schedule, Matchups and Odds -...</td>\n",
       "      <td>0</td>\n",
       "    </tr>\n",
       "    <tr>\n",
       "      <th>20797</th>\n",
       "      <td>Macy’s Is Said to Receive Takeover Approach by...</td>\n",
       "      <td>0</td>\n",
       "    </tr>\n",
       "    <tr>\n",
       "      <th>20798</th>\n",
       "      <td>NATO, Russia To Hold Parallel Exercises In Bal...</td>\n",
       "      <td>1</td>\n",
       "    </tr>\n",
       "    <tr>\n",
       "      <th>20799</th>\n",
       "      <td>What Keeps the F-35 Alive David Swanson   Davi...</td>\n",
       "      <td>1</td>\n",
       "    </tr>\n",
       "  </tbody>\n",
       "</table>\n",
       "<p>20800 rows × 2 columns</p>\n",
       "</div>"
      ],
      "text/plain": [
       "                                                 content  label\n",
       "0      House Dem Aide: We Didn’t Even See Comey’s Let...      1\n",
       "1      FLYNN: Hillary Clinton, Big Woman on Campus - ...      0\n",
       "2      Why the Truth Might Get You Fired Consortiumne...      1\n",
       "3      15 Civilians Killed In Single US Airstrike Hav...      1\n",
       "4      Iranian woman jailed for fictional unpublished...      1\n",
       "...                                                  ...    ...\n",
       "20795  Rapper T.I.: Trump a ’Poster Child For White S...      0\n",
       "20796  N.F.L. Playoffs: Schedule, Matchups and Odds -...      0\n",
       "20797  Macy’s Is Said to Receive Takeover Approach by...      0\n",
       "20798  NATO, Russia To Hold Parallel Exercises In Bal...      1\n",
       "20799  What Keeps the F-35 Alive David Swanson   Davi...      1\n",
       "\n",
       "[20800 rows x 2 columns]"
      ]
     },
     "execution_count": 8,
     "metadata": {},
     "output_type": "execute_result"
    }
   ],
   "source": [
    "def load_df1():\n",
    "    train = pd.read_csv('ds1/train.csv')\n",
    "    train = train.fillna('')\n",
    "    train['content'] = train['title'] + \" \" + train['author'] + \" \" + train['text']\n",
    "    temp_label = train['label']\n",
    "    train.drop(['id', 'title', 'author', 'label', 'text'], axis=1, inplace=True)\n",
    "    train['label'] = temp_label\n",
    "\n",
    "    return train \n"
   ]
  },
  {
   "cell_type": "code",
   "execution_count": 18,
   "metadata": {},
   "outputs": [
    {
     "data": {
      "text/html": [
       "<div>\n",
       "<style scoped>\n",
       "    .dataframe tbody tr th:only-of-type {\n",
       "        vertical-align: middle;\n",
       "    }\n",
       "\n",
       "    .dataframe tbody tr th {\n",
       "        vertical-align: top;\n",
       "    }\n",
       "\n",
       "    .dataframe thead th {\n",
       "        text-align: right;\n",
       "    }\n",
       "</style>\n",
       "<table border=\"1\" class=\"dataframe\">\n",
       "  <thead>\n",
       "    <tr style=\"text-align: right;\">\n",
       "      <th></th>\n",
       "      <th>content</th>\n",
       "      <th>label</th>\n",
       "    </tr>\n",
       "  </thead>\n",
       "  <tbody>\n",
       "    <tr>\n",
       "      <th>0</th>\n",
       "      <td>Four ways Bob Corker skewered Donald Trump Ima...</td>\n",
       "      <td>0</td>\n",
       "    </tr>\n",
       "    <tr>\n",
       "      <th>1</th>\n",
       "      <td>Linklater's war veteran comedy speaks to moder...</td>\n",
       "      <td>0</td>\n",
       "    </tr>\n",
       "    <tr>\n",
       "      <th>2</th>\n",
       "      <td>Trump’s Fight With Corker Jeopardizes His Legi...</td>\n",
       "      <td>0</td>\n",
       "    </tr>\n",
       "    <tr>\n",
       "      <th>3</th>\n",
       "      <td>Egypt's Cheiron wins tie-up with Pemex for Mex...</td>\n",
       "      <td>0</td>\n",
       "    </tr>\n",
       "    <tr>\n",
       "      <th>4</th>\n",
       "      <td>Jason Aldean opens 'SNL' with Vegas tribute Co...</td>\n",
       "      <td>0</td>\n",
       "    </tr>\n",
       "    <tr>\n",
       "      <th>...</th>\n",
       "      <td>...</td>\n",
       "      <td>...</td>\n",
       "    </tr>\n",
       "    <tr>\n",
       "      <th>4004</th>\n",
       "      <td>Trends to Watch Trends to Watch\\n% of readers ...</td>\n",
       "      <td>1</td>\n",
       "    </tr>\n",
       "    <tr>\n",
       "      <th>4005</th>\n",
       "      <td>Trump Jr. Is Soon To Give A 30-Minute Speech F...</td>\n",
       "      <td>1</td>\n",
       "    </tr>\n",
       "    <tr>\n",
       "      <th>4006</th>\n",
       "      <td>Ron Paul on Trump, Anarchism &amp; the AltRight</td>\n",
       "      <td>1</td>\n",
       "    </tr>\n",
       "    <tr>\n",
       "      <th>4007</th>\n",
       "      <td>China to accept overseas trial data in bid to ...</td>\n",
       "      <td>0</td>\n",
       "    </tr>\n",
       "    <tr>\n",
       "      <th>4008</th>\n",
       "      <td>Vice President Mike Pence Leaves NFL Game Beca...</td>\n",
       "      <td>1</td>\n",
       "    </tr>\n",
       "  </tbody>\n",
       "</table>\n",
       "<p>4009 rows × 2 columns</p>\n",
       "</div>"
      ],
      "text/plain": [
       "                                                content  label\n",
       "0     Four ways Bob Corker skewered Donald Trump Ima...      0\n",
       "1     Linklater's war veteran comedy speaks to moder...      0\n",
       "2     Trump’s Fight With Corker Jeopardizes His Legi...      0\n",
       "3     Egypt's Cheiron wins tie-up with Pemex for Mex...      0\n",
       "4     Jason Aldean opens 'SNL' with Vegas tribute Co...      0\n",
       "...                                                 ...    ...\n",
       "4004  Trends to Watch Trends to Watch\\n% of readers ...      1\n",
       "4005  Trump Jr. Is Soon To Give A 30-Minute Speech F...      1\n",
       "4006       Ron Paul on Trump, Anarchism & the AltRight       1\n",
       "4007  China to accept overseas trial data in bid to ...      0\n",
       "4008  Vice President Mike Pence Leaves NFL Game Beca...      1\n",
       "\n",
       "[4009 rows x 2 columns]"
      ]
     },
     "execution_count": 18,
     "metadata": {},
     "output_type": "execute_result"
    }
   ],
   "source": [
    "def load_df2():\n",
    "    data = pd.read_csv('ds2/data.csv')\n",
    "    data = data.fillna('')\n",
    "    data['content'] = data['Headline'] + ' ' + data['Body']\n",
    "    temp_label = data['Label']\n",
    "    data.drop(['URLs', 'Headline', 'Body', 'Label'], axis=1, inplace=True)\n",
    "    data[\"label\"] = temp_label\n",
    "    data['label'] = data['label'].apply(lambda x: 0 if x == 1 else 1)\n",
    "\n",
    "    return data\n"
   ]
  },
  {
   "cell_type": "code",
   "execution_count": 33,
   "metadata": {},
   "outputs": [],
   "source": [
    "def load_df3():\n",
    "    true = pd.read_csv('ds3/True.csv')\n",
    "    fake = pd.read_csv('ds3/Fake.csv')\n",
    "\n",
    "    true = true.fillna('')\n",
    "    fake = fake.fillna('')\n",
    "\n",
    "    true['content'] = true['title'] + true['text']\n",
    "    fake['content'] = fake['title'] + fake['text']\n",
    "\n",
    "    true.drop(['title', 'text', 'subject', 'date'], axis=1, inplace=True)\n",
    "    fake.drop(['title', 'text', 'subject', 'date'], axis=1, inplace=True)\n",
    "\n",
    "    true['label'] = 0\n",
    "    fake['label'] = 1\n",
    "\n",
    "    data = pd.concat([true, fake], axis=0)\n",
    "\n",
    "    #Shuffle Data\n",
    "    data = data.sample(frac=1)\n",
    "\n",
    "    #Reset the index\n",
    "    data.reset_index(inplace=True)\n",
    "\n",
    "    data.drop(['index'], axis=1, inplace=True)\n",
    "\n",
    "    return data\n"
   ]
  },
  {
   "cell_type": "code",
   "execution_count": 34,
   "metadata": {},
   "outputs": [],
   "source": [
    "df1, df2, df3 = load_df1(), load_df2(), load_df3()"
   ]
  },
  {
   "cell_type": "code",
   "execution_count": 35,
   "metadata": {},
   "outputs": [],
   "source": [
    "df = pd.concat([df1, df2, df3], axis=0)"
   ]
  },
  {
   "cell_type": "code",
   "execution_count": 38,
   "metadata": {},
   "outputs": [],
   "source": [
    "y = df.label\n",
    "X = df.drop(['label'], axis=1)"
   ]
  },
  {
   "cell_type": "markdown",
   "metadata": {},
   "source": [
    "### STEMMING:\n",
    "\n",
    "A stemming algorithm is a process of linguistic normalisation, in which the variant forms of a word are reduced to a common form.\n",
    "In simple words, Stemming is the process of reducing a word to its Root word.\n",
    "\n",
    "### EXAMPLES:\n",
    "\n",
    "actor, actress, acting --> act\n",
    "eating, eats, eaten --> eat"
   ]
  },
  {
   "cell_type": "code",
   "execution_count": 40,
   "metadata": {},
   "outputs": [],
   "source": [
    "port_stem = PorterStemmer()"
   ]
  },
  {
   "cell_type": "code",
   "execution_count": 41,
   "metadata": {},
   "outputs": [],
   "source": [
    "def stemming(content):\n",
    "    review = re.sub('[^a-zA-Z]',' ',content)\n",
    "    review = review.lower()\n",
    "    review = review.split()\n",
    "    review = [port_stem.stem(word) for word in review if not word in stopwords.words('english')]\n",
    "    review = ' '.join(review)\n",
    "    return review"
   ]
  },
  {
   "cell_type": "code",
   "execution_count": 42,
   "metadata": {},
   "outputs": [],
   "source": [
    "X['content'] = X['content'].apply(stemming)"
   ]
  },
  {
   "cell_type": "code",
   "execution_count": 49,
   "metadata": {},
   "outputs": [],
   "source": [
    "stemmed_df = pd.concat([X,y], axis=1)"
   ]
  },
  {
   "cell_type": "markdown",
   "metadata": {},
   "source": [
    "#### Shuffling the data set"
   ]
  },
  {
   "cell_type": "code",
   "execution_count": 55,
   "metadata": {},
   "outputs": [],
   "source": [
    "stemmed_df = stemmed_df.sample(frac=1)\n",
    "stemmed_df = stemmed_df.reset_index()"
   ]
  },
  {
   "cell_type": "code",
   "execution_count": 56,
   "metadata": {},
   "outputs": [],
   "source": [
    "stemmed_df.drop(['index'], axis=1, inplace=True)"
   ]
  },
  {
   "cell_type": "code",
   "execution_count": 57,
   "metadata": {},
   "outputs": [
    {
     "data": {
      "text/html": [
       "<div>\n",
       "<style scoped>\n",
       "    .dataframe tbody tr th:only-of-type {\n",
       "        vertical-align: middle;\n",
       "    }\n",
       "\n",
       "    .dataframe tbody tr th {\n",
       "        vertical-align: top;\n",
       "    }\n",
       "\n",
       "    .dataframe thead th {\n",
       "        text-align: right;\n",
       "    }\n",
       "</style>\n",
       "<table border=\"1\" class=\"dataframe\">\n",
       "  <thead>\n",
       "    <tr style=\"text-align: right;\">\n",
       "      <th></th>\n",
       "      <th>content</th>\n",
       "      <th>label</th>\n",
       "    </tr>\n",
       "  </thead>\n",
       "  <tbody>\n",
       "    <tr>\n",
       "      <th>0</th>\n",
       "      <td>compli va resid refus obey leftist governor ba...</td>\n",
       "      <td>1</td>\n",
       "    </tr>\n",
       "    <tr>\n",
       "      <th>1</th>\n",
       "      <td>trump mock puerto rico hispan heritag speech h...</td>\n",
       "      <td>1</td>\n",
       "    </tr>\n",
       "    <tr>\n",
       "      <th>2</th>\n",
       "      <td>trump take first action cabinet declar day pat...</td>\n",
       "      <td>0</td>\n",
       "    </tr>\n",
       "    <tr>\n",
       "      <th>3</th>\n",
       "      <td>countri adopt plan offset air travel emiss new...</td>\n",
       "      <td>0</td>\n",
       "    </tr>\n",
       "    <tr>\n",
       "      <th>4</th>\n",
       "      <td>suffer pneumonia clinton fall ill memori cance...</td>\n",
       "      <td>0</td>\n",
       "    </tr>\n",
       "  </tbody>\n",
       "</table>\n",
       "</div>"
      ],
      "text/plain": [
       "                                             content  label\n",
       "0  compli va resid refus obey leftist governor ba...      1\n",
       "1  trump mock puerto rico hispan heritag speech h...      1\n",
       "2  trump take first action cabinet declar day pat...      0\n",
       "3  countri adopt plan offset air travel emiss new...      0\n",
       "4  suffer pneumonia clinton fall ill memori cance...      0"
      ]
     },
     "execution_count": 57,
     "metadata": {},
     "output_type": "execute_result"
    }
   ],
   "source": [
    "stemmed_df.head()"
   ]
  },
  {
   "cell_type": "markdown",
   "metadata": {},
   "source": [
    "### Vectorization"
   ]
  },
  {
   "cell_type": "code",
   "execution_count": 62,
   "metadata": {},
   "outputs": [],
   "source": [
    "X = stemmed_df['content']\n",
    "y = stemmed_df['label']"
   ]
  },
  {
   "cell_type": "code",
   "execution_count": 63,
   "metadata": {},
   "outputs": [],
   "source": [
    "vectorizer = TfidfVectorizer()\n",
    "vectorizer.fit(X)\n",
    "X = vectorizer.transform(X)"
   ]
  },
  {
   "cell_type": "markdown",
   "metadata": {},
   "source": [
    "### Train Test Split"
   ]
  },
  {
   "cell_type": "code",
   "execution_count": 64,
   "metadata": {},
   "outputs": [],
   "source": [
    "X_train, X_test, y_train, y_test = train_test_split(X,y,random_state=10, test_size=0.25, stratify=y)"
   ]
  },
  {
   "cell_type": "code",
   "execution_count": 76,
   "metadata": {},
   "outputs": [
    {
     "name": "stdout",
     "output_type": "stream",
     "text": [
      "accuracy:   0.971\n"
     ]
    },
    {
     "name": "stderr",
     "output_type": "stream",
     "text": [
      "/Library/Frameworks/Python.framework/Versions/3.10/lib/python3.10/site-packages/sklearn/utils/deprecation.py:87: FutureWarning: Function plot_confusion_matrix is deprecated; Function `plot_confusion_matrix` is deprecated in 1.0 and will be removed in 1.2. Use one of the class methods: ConfusionMatrixDisplay.from_predictions or ConfusionMatrixDisplay.from_estimator.\n",
      "  warnings.warn(msg, category=FutureWarning)\n"
     ]
    },
    {
     "data": {
      "text/plain": [
       "<sklearn.metrics._plot.confusion_matrix.ConfusionMatrixDisplay at 0x1427539a0>"
      ]
     },
     "execution_count": 76,
     "metadata": {},
     "output_type": "execute_result"
    },
    {
     "data": {
      "image/png": "[encoded data removed]",
      "text/plain": [
       "<Figure size 432x288 with 2 Axes>"
      ]
     },
     "metadata": {
      "needs_background": "light"
     },
     "output_type": "display_data"
    }
   ],
   "source": [
    "from sklearn.linear_model import PassiveAggressiveClassifier\n",
    "linear_clf = PassiveAggressiveClassifier(max_iter=50)\n",
    "\n",
    "linear_clf.fit(X_train, y_train)\n",
    "prediction2 = linear_clf.predict(X_test)\n",
    "score = accuracy_score(y_test, prediction2)\n",
    "print(\"accuracy:   %0.3f\" % score)\n",
    "cm2 = confusion_matrix(y_test, prediction2)\n",
    "plot_confusion_matrix(linear_clf, X_test, y_test)"
   ]
  },
  {
   "cell_type": "markdown",
   "metadata": {},
   "source": [
    "### Pickle the Model"
   ]
  },
  {
   "cell_type": "code",
   "execution_count": 78,
   "metadata": {},
   "outputs": [],
   "source": [
    "import pickle\n",
    "filename = 'clf_model.sav'\n",
    "pickle.dump(linear_clf, open(filename, 'wb'))"
   ]
  },
  {
   "cell_type": "code",
   "execution_count": 86,
   "metadata": {},
   "outputs": [],
   "source": [
    "vec_filename = 'vectorizer.sav'\n",
    "pickle.dump(vectorizer, open(vec_filename, 'wb') )"
   ]
  },
  {
   "cell_type": "code",
   "execution_count": 87,
   "metadata": {},
   "outputs": [],
   "source": [
    "loaded_model = pickle.load(open('clf_model.sav', 'rb'))\n",
    "loaded_vec = pickle.load(open('vectorizer.sav', 'rb'))\n"
   ]
  },
  {
   "cell_type": "code",
   "execution_count": 85,
   "metadata": {},
   "outputs": [
    {
     "data": {
      "text/plain": [
       "array([0, 1, 1, ..., 0, 1, 0])"
      ]
     },
     "execution_count": 85,
     "metadata": {},
     "output_type": "execute_result"
    }
   ],
   "source": [
    "loaded_model.predict(X_test)\n",
    "classification_report()"
   ]
  },
  {
   "cell_type": "markdown",
   "metadata": {},
   "source": [
    "### Creating a prediction function"
   ]
  },
  {
   "cell_type": "code",
   "execution_count": null,
   "metadata": {},
   "outputs": [],
   "source": [
    "def stemming(content):\n",
    "    review = re.sub('[^a-zA-Z]',' ',content)\n",
    "    review = review.lower()\n",
    "    review = review.split()\n",
    "    review = [port_stem.stem(word) for word in review if not word in stopwords.words('english')]\n",
    "    review = ' '.join(review)\n",
    "    return review"
   ]
  },
  {
   "cell_type": "code",
   "execution_count": 95,
   "metadata": {},
   "outputs": [],
   "source": [
    "def make_prediction(model, vectorizer, input_text):\n",
    "\n",
    "    #Transform to DataFrame\n",
    "    input_text = {'content':[input_text]}\n",
    "    input_text = pd.DataFrame(input_text)\n",
    "    #Stem input text\n",
    "    input_text['content'] = input_text['content'].apply(stemming)\n",
    "    stemmed_text = input_text['content']\n",
    "\n",
    "    #Vectorize \n",
    "    vec_text = vectorizer.transform(stemmed_text)\n",
    "\n",
    "    #Predict\n",
    "    pred = model.predict(vec_text)\n",
    "\n",
    "    if pred == 0:\n",
    "        return 'Reliable News'\n",
    "    elif pred == 1:\n",
    "        return 'Unreliable News'"
   ]
  },
  {
   "cell_type": "code",
   "execution_count": 98,
   "metadata": {},
   "outputs": [
    {
     "data": {
      "text/plain": [
       "'Reliable News'"
      ]
     },
     "execution_count": 98,
     "metadata": {},
     "output_type": "execute_result"
    }
   ],
   "source": [
    "input_text = \"\"\"The second Covid-19 wave in India is now on the \"downswing,\" the Centre said on Thursday, highlighting that the current number of active cases is still \"very high\" and advised states and Union territories (UTs) to not let down their guards.\"\"\"\n",
    "make_prediction(loaded_model, loaded_vec, input_text)"
   ]
  }
 ],
 "metadata": {
  "kernelspec": {
   "display_name": "Python 3.10.1 64-bit",
   "language": "python",
   "name": "python3"
  },
  "language_info": {
   "codemirror_mode": {
    "name": "ipython",
    "version": 3
   },
   "file_extension": ".py",
   "mimetype": "text/x-python",
   "name": "python",
   "nbconvert_exporter": "python",
   "pygments_lexer": "ipython3",
   "version": "3.10.1"
  },
  "orig_nbformat": 4,
  "vscode": {
   "interpreter": {
    "hash": "aee8b7b246df8f9039afb4144a1f6fd8d2ca17a180786b69acc140d282b71a49"
   }
  }
 },
 "nbformat": 4,
 "nbformat_minor": 2
}
